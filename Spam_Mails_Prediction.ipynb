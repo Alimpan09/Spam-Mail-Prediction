{
  "nbformat": 4,
  "nbformat_minor": 0,
  "metadata": {
    "colab": {
      "provenance": []
    },
    "kernelspec": {
      "name": "python3",
      "display_name": "Python 3"
    },
    "language_info": {
      "name": "python"
    }
  },
  "cells": [
    {
      "cell_type": "code",
      "execution_count": 7,
      "metadata": {
        "id": "RZRaXizG8Z-l"
      },
      "outputs": [],
      "source": [
        "import numpy as np\n",
        "import pandas as pd\n",
        "from sklearn.model_selection import train_test_split\n",
        "from sklearn.feature_extraction.text import TfidfVectorizer\n",
        "from sklearn.linear_model import LogisticRegression\n",
        "from sklearn.metrics import accuracy_score"
      ]
    },
    {
      "cell_type": "markdown",
      "source": [
        "Now we have imported the libraries required\n",
        "\n",
        "Lets start the preprocessing of the data set"
      ],
      "metadata": {
        "id": "1-eVa7WcVhjB"
      }
    },
    {
      "cell_type": "code",
      "source": [
        "data=pd.read_csv('/content/mail_data.csv')"
      ],
      "metadata": {
        "id": "1cWnx8c0Vtm0"
      },
      "execution_count": 8,
      "outputs": []
    },
    {
      "cell_type": "code",
      "source": [
        "print(data)"
      ],
      "metadata": {
        "colab": {
          "base_uri": "https://localhost:8080/"
        },
        "id": "QnH2_-F_WIQ8",
        "outputId": "3da5983d-6362-4c33-c798-6c2d31f672c4"
      },
      "execution_count": 9,
      "outputs": [
        {
          "output_type": "stream",
          "name": "stdout",
          "text": [
            "     Category                                            Message\n",
            "0         ham  Go until jurong point, crazy.. Available only ...\n",
            "1         ham                      Ok lar... Joking wif u oni...\n",
            "2        spam  Free entry in 2 a wkly comp to win FA Cup fina...\n",
            "3         ham  U dun say so early hor... U c already then say...\n",
            "4         ham  Nah I don't think he goes to usf, he lives aro...\n",
            "...       ...                                                ...\n",
            "5567     spam  This is the 2nd time we have tried 2 contact u...\n",
            "5568      ham               Will ü b going to esplanade fr home?\n",
            "5569      ham  Pity, * was in mood for that. So...any other s...\n",
            "5570      ham  The guy did some bitching but I acted like i'd...\n",
            "5571      ham                         Rofl. Its true to its name\n",
            "\n",
            "[5572 rows x 2 columns]\n"
          ]
        }
      ]
    },
    {
      "cell_type": "markdown",
      "source": [
        "Since it has null values,we have to replace them with null strings"
      ],
      "metadata": {
        "id": "xrSGxAF1WLPw"
      }
    },
    {
      "cell_type": "code",
      "source": [
        "new_data=data.where((pd.notnull(data)),'')"
      ],
      "metadata": {
        "id": "IDhHn-s4WSP7"
      },
      "execution_count": 10,
      "outputs": []
    },
    {
      "cell_type": "code",
      "source": [
        "print(new_data)"
      ],
      "metadata": {
        "colab": {
          "base_uri": "https://localhost:8080/"
        },
        "id": "vJNfd1mAWi3e",
        "outputId": "b3781c3c-a988-4c9b-cddf-0eca0be064d1"
      },
      "execution_count": 11,
      "outputs": [
        {
          "output_type": "stream",
          "name": "stdout",
          "text": [
            "     Category                                            Message\n",
            "0         ham  Go until jurong point, crazy.. Available only ...\n",
            "1         ham                      Ok lar... Joking wif u oni...\n",
            "2        spam  Free entry in 2 a wkly comp to win FA Cup fina...\n",
            "3         ham  U dun say so early hor... U c already then say...\n",
            "4         ham  Nah I don't think he goes to usf, he lives aro...\n",
            "...       ...                                                ...\n",
            "5567     spam  This is the 2nd time we have tried 2 contact u...\n",
            "5568      ham               Will ü b going to esplanade fr home?\n",
            "5569      ham  Pity, * was in mood for that. So...any other s...\n",
            "5570      ham  The guy did some bitching but I acted like i'd...\n",
            "5571      ham                         Rofl. Its true to its name\n",
            "\n",
            "[5572 rows x 2 columns]\n"
          ]
        }
      ]
    },
    {
      "cell_type": "code",
      "source": [
        "new_data.shape"
      ],
      "metadata": {
        "colab": {
          "base_uri": "https://localhost:8080/"
        },
        "id": "QyCgKhJpWrii",
        "outputId": "23ed71c0-e320-447f-f98a-029112c3b841"
      },
      "execution_count": 12,
      "outputs": [
        {
          "output_type": "execute_result",
          "data": {
            "text/plain": [
              "(5572, 2)"
            ]
          },
          "metadata": {},
          "execution_count": 12
        }
      ]
    },
    {
      "cell_type": "markdown",
      "source": [
        "Now We will change the labels to a number which shows if the mail is ham or spam"
      ],
      "metadata": {
        "id": "eqTDMxBqXGWZ"
      }
    },
    {
      "cell_type": "markdown",
      "source": [
        "**We will give spam as 0 and ham as 1**"
      ],
      "metadata": {
        "id": "q3GCQ8SoXHWT"
      }
    },
    {
      "cell_type": "markdown",
      "source": [
        "**LABEL ENCODING**"
      ],
      "metadata": {
        "id": "GBrEv4KgXRA8"
      }
    },
    {
      "cell_type": "code",
      "source": [
        "new_data.loc[new_data['Category']=='spam','Category',]=0\n",
        "new_data.loc[new_data['Category']=='ham','Category',]=1"
      ],
      "metadata": {
        "id": "qrGbaxFnXZ3S"
      },
      "execution_count": 13,
      "outputs": []
    },
    {
      "cell_type": "code",
      "source": [
        "print(new_data)"
      ],
      "metadata": {
        "colab": {
          "base_uri": "https://localhost:8080/"
        },
        "id": "I6xyAZXbXVZz",
        "outputId": "5cd2c844-6f4a-4751-bfa7-ca1d7e779f2f"
      },
      "execution_count": 14,
      "outputs": [
        {
          "output_type": "stream",
          "name": "stdout",
          "text": [
            "     Category                                            Message\n",
            "0           1  Go until jurong point, crazy.. Available only ...\n",
            "1           1                      Ok lar... Joking wif u oni...\n",
            "2           0  Free entry in 2 a wkly comp to win FA Cup fina...\n",
            "3           1  U dun say so early hor... U c already then say...\n",
            "4           1  Nah I don't think he goes to usf, he lives aro...\n",
            "...       ...                                                ...\n",
            "5567        0  This is the 2nd time we have tried 2 contact u...\n",
            "5568        1               Will ü b going to esplanade fr home?\n",
            "5569        1  Pity, * was in mood for that. So...any other s...\n",
            "5570        1  The guy did some bitching but I acted like i'd...\n",
            "5571        1                         Rofl. Its true to its name\n",
            "\n",
            "[5572 rows x 2 columns]\n"
          ]
        }
      ]
    },
    {
      "cell_type": "markdown",
      "source": [
        "Seperating the dataset"
      ],
      "metadata": {
        "id": "DFnfx12nX_iW"
      }
    },
    {
      "cell_type": "code",
      "source": [
        "Message=new_data['Message']\n",
        "Label=new_data['Category']"
      ],
      "metadata": {
        "id": "8SiUz2PCYGLM"
      },
      "execution_count": 15,
      "outputs": []
    },
    {
      "cell_type": "code",
      "source": [
        "print(Message)"
      ],
      "metadata": {
        "colab": {
          "base_uri": "https://localhost:8080/"
        },
        "id": "p0bCZ89VYRUU",
        "outputId": "82fe8361-a219-4df4-d7a3-9f8c7e2cdce0"
      },
      "execution_count": 16,
      "outputs": [
        {
          "output_type": "stream",
          "name": "stdout",
          "text": [
            "0       Go until jurong point, crazy.. Available only ...\n",
            "1                           Ok lar... Joking wif u oni...\n",
            "2       Free entry in 2 a wkly comp to win FA Cup fina...\n",
            "3       U dun say so early hor... U c already then say...\n",
            "4       Nah I don't think he goes to usf, he lives aro...\n",
            "                              ...                        \n",
            "5567    This is the 2nd time we have tried 2 contact u...\n",
            "5568                 Will ü b going to esplanade fr home?\n",
            "5569    Pity, * was in mood for that. So...any other s...\n",
            "5570    The guy did some bitching but I acted like i'd...\n",
            "5571                           Rofl. Its true to its name\n",
            "Name: Message, Length: 5572, dtype: object\n"
          ]
        }
      ]
    },
    {
      "cell_type": "code",
      "source": [
        "print(Label)"
      ],
      "metadata": {
        "colab": {
          "base_uri": "https://localhost:8080/"
        },
        "id": "vQUr-f7-YSFv",
        "outputId": "a3a13e73-a533-431f-96e3-b2eb283d287d"
      },
      "execution_count": 17,
      "outputs": [
        {
          "output_type": "stream",
          "name": "stdout",
          "text": [
            "0       1\n",
            "1       1\n",
            "2       0\n",
            "3       1\n",
            "4       1\n",
            "       ..\n",
            "5567    0\n",
            "5568    1\n",
            "5569    1\n",
            "5570    1\n",
            "5571    1\n",
            "Name: Category, Length: 5572, dtype: object\n"
          ]
        }
      ]
    },
    {
      "cell_type": "markdown",
      "source": [
        " **Splitting data**"
      ],
      "metadata": {
        "id": "EMQA-D_kYbVR"
      }
    },
    {
      "cell_type": "code",
      "source": [
        "X_train,X_test,Y_train,Y_test=train_test_split(Message,Label,test_size=0.2,random_state=5)"
      ],
      "metadata": {
        "id": "HlGzFeSqYh5z"
      },
      "execution_count": 19,
      "outputs": []
    },
    {
      "cell_type": "code",
      "source": [
        "print(X_train.shape)"
      ],
      "metadata": {
        "colab": {
          "base_uri": "https://localhost:8080/"
        },
        "id": "w36PtrkRZBew",
        "outputId": "e4d19cdd-9637-4c94-e55f-a362789f0095"
      },
      "execution_count": 20,
      "outputs": [
        {
          "output_type": "stream",
          "name": "stdout",
          "text": [
            "(4457,)\n"
          ]
        }
      ]
    },
    {
      "cell_type": "code",
      "source": [
        "print(X_test.shape)"
      ],
      "metadata": {
        "colab": {
          "base_uri": "https://localhost:8080/"
        },
        "id": "6R_kRmbgZTTN",
        "outputId": "ea482a07-c53f-43ae-feec-24641bedf66a"
      },
      "execution_count": 21,
      "outputs": [
        {
          "output_type": "stream",
          "name": "stdout",
          "text": [
            "(1115,)\n"
          ]
        }
      ]
    },
    {
      "cell_type": "markdown",
      "source": [
        "Now we have to transform  the test data into some numerical values to that we can feed those values to our model"
      ],
      "metadata": {
        "id": "qvMDqRQyZX0p"
      }
    },
    {
      "cell_type": "code",
      "source": [
        "feature_extraction=TfidfVectorizer(min_df=1,stop_words='english',lowercase=True)\n",
        "X_train_features=feature_extraction.fit_transform(X_train)\n",
        "X_test_features=feature_extraction.transform(X_test)"
      ],
      "metadata": {
        "id": "GX4HdnvxZlqV"
      },
      "execution_count": 33,
      "outputs": []
    },
    {
      "cell_type": "code",
      "source": [
        "Y_train=Y_train.astype('int')\n",
        "Y_test=Y_test.astype('int')"
      ],
      "metadata": {
        "id": "c_4nH1jHekus"
      },
      "execution_count": 37,
      "outputs": []
    },
    {
      "cell_type": "code",
      "source": [
        "print(X_train_features)"
      ],
      "metadata": {
        "colab": {
          "base_uri": "https://localhost:8080/"
        },
        "id": "aVzokSyvcyfK",
        "outputId": "9162aef1-fd6a-4ffd-ee6e-09a708c67a3f"
      },
      "execution_count": 34,
      "outputs": [
        {
          "output_type": "stream",
          "name": "stdout",
          "text": [
            "  (0, 3916)\t0.6037953148318957\n",
            "  (0, 3056)\t0.3429005562464134\n",
            "  (0, 4893)\t0.6433735801583021\n",
            "  (0, 3068)\t0.32236758935606574\n",
            "  (1, 5720)\t0.6023019309762907\n",
            "  (1, 6542)\t0.5742615392242952\n",
            "  (1, 3970)\t0.2895925989409213\n",
            "  (1, 6110)\t0.4728553638784458\n",
            "  (2, 53)\t0.2275977849591067\n",
            "  (2, 5502)\t0.16144032675968542\n",
            "  (2, 1582)\t0.2275977849591067\n",
            "  (2, 6557)\t0.21161850376233796\n",
            "  (2, 260)\t0.19690190061164803\n",
            "  (2, 4387)\t0.1624258510707269\n",
            "  (2, 4347)\t0.2040320228676743\n",
            "  (2, 2878)\t0.4232962626786592\n",
            "  (2, 434)\t0.2587500279452028\n",
            "  (2, 2182)\t0.27253511506960687\n",
            "  (2, 4988)\t0.1604825674220973\n",
            "  (2, 1850)\t0.21615833183721392\n",
            "  (2, 453)\t0.2587500279452028\n",
            "  (2, 4630)\t0.18805274167090552\n",
            "  (2, 4587)\t0.16079883210369647\n",
            "  (2, 7099)\t0.14954143140130233\n",
            "  (2, 635)\t0.29610087716103933\n",
            "  :\t:\n",
            "  (4454, 2954)\t0.5425177822436338\n",
            "  (4454, 4823)\t0.5172606639045361\n",
            "  (4454, 3557)\t0.5172606639045361\n",
            "  (4454, 3064)\t0.41298579528057155\n",
            "  (4455, 5046)\t0.5672102378436935\n",
            "  (4455, 5597)\t0.5672102378436935\n",
            "  (4455, 4039)\t0.39560309040558683\n",
            "  (4455, 2525)\t0.4472619892547883\n",
            "  (4456, 2638)\t0.30597459416799505\n",
            "  (4456, 5540)\t0.30597459416799505\n",
            "  (4456, 4845)\t0.2917298324540132\n",
            "  (4456, 563)\t0.2917298324540132\n",
            "  (4456, 6531)\t0.2737835550988689\n",
            "  (4456, 6904)\t0.23291985119000655\n",
            "  (4456, 5056)\t0.17466313970905117\n",
            "  (4456, 3545)\t0.24021461765587865\n",
            "  (4456, 6582)\t0.28162301317533217\n",
            "  (4456, 5509)\t0.25313348974736855\n",
            "  (4456, 7159)\t0.24608354591083306\n",
            "  (4456, 4332)\t0.1901855660480611\n",
            "  (4456, 6101)\t0.16362766975061835\n",
            "  (4456, 4716)\t0.2108356313995615\n",
            "  (4456, 4385)\t0.22017028981240724\n",
            "  (4456, 3284)\t0.1935991136413851\n",
            "  (4456, 5502)\t0.16682368163258793\n"
          ]
        }
      ]
    },
    {
      "cell_type": "markdown",
      "source": [
        " **Lets Apply Logistic Regression on this**"
      ],
      "metadata": {
        "id": "6VEPsl6NdC9P"
      }
    },
    {
      "cell_type": "code",
      "source": [
        "model=LogisticRegression()"
      ],
      "metadata": {
        "id": "-5uCjS1YdKpv"
      },
      "execution_count": 35,
      "outputs": []
    },
    {
      "cell_type": "markdown",
      "source": [
        "Lets train the Logistic regression model"
      ],
      "metadata": {
        "id": "FxmsNFxadRwW"
      }
    },
    {
      "cell_type": "code",
      "source": [
        "model.fit(X_train_features,Y_train)"
      ],
      "metadata": {
        "colab": {
          "base_uri": "https://localhost:8080/",
          "height": 74
        },
        "id": "e9kktCbydW3y",
        "outputId": "356cbd9e-79d3-45af-d518-930a8c3ae9ce"
      },
      "execution_count": 38,
      "outputs": [
        {
          "output_type": "execute_result",
          "data": {
            "text/plain": [
              "LogisticRegression()"
            ],
            "text/html": [
              "<style>#sk-container-id-1 {color: black;background-color: white;}#sk-container-id-1 pre{padding: 0;}#sk-container-id-1 div.sk-toggleable {background-color: white;}#sk-container-id-1 label.sk-toggleable__label {cursor: pointer;display: block;width: 100%;margin-bottom: 0;padding: 0.3em;box-sizing: border-box;text-align: center;}#sk-container-id-1 label.sk-toggleable__label-arrow:before {content: \"▸\";float: left;margin-right: 0.25em;color: #696969;}#sk-container-id-1 label.sk-toggleable__label-arrow:hover:before {color: black;}#sk-container-id-1 div.sk-estimator:hover label.sk-toggleable__label-arrow:before {color: black;}#sk-container-id-1 div.sk-toggleable__content {max-height: 0;max-width: 0;overflow: hidden;text-align: left;background-color: #f0f8ff;}#sk-container-id-1 div.sk-toggleable__content pre {margin: 0.2em;color: black;border-radius: 0.25em;background-color: #f0f8ff;}#sk-container-id-1 input.sk-toggleable__control:checked~div.sk-toggleable__content {max-height: 200px;max-width: 100%;overflow: auto;}#sk-container-id-1 input.sk-toggleable__control:checked~label.sk-toggleable__label-arrow:before {content: \"▾\";}#sk-container-id-1 div.sk-estimator input.sk-toggleable__control:checked~label.sk-toggleable__label {background-color: #d4ebff;}#sk-container-id-1 div.sk-label input.sk-toggleable__control:checked~label.sk-toggleable__label {background-color: #d4ebff;}#sk-container-id-1 input.sk-hidden--visually {border: 0;clip: rect(1px 1px 1px 1px);clip: rect(1px, 1px, 1px, 1px);height: 1px;margin: -1px;overflow: hidden;padding: 0;position: absolute;width: 1px;}#sk-container-id-1 div.sk-estimator {font-family: monospace;background-color: #f0f8ff;border: 1px dotted black;border-radius: 0.25em;box-sizing: border-box;margin-bottom: 0.5em;}#sk-container-id-1 div.sk-estimator:hover {background-color: #d4ebff;}#sk-container-id-1 div.sk-parallel-item::after {content: \"\";width: 100%;border-bottom: 1px solid gray;flex-grow: 1;}#sk-container-id-1 div.sk-label:hover label.sk-toggleable__label {background-color: #d4ebff;}#sk-container-id-1 div.sk-serial::before {content: \"\";position: absolute;border-left: 1px solid gray;box-sizing: border-box;top: 0;bottom: 0;left: 50%;z-index: 0;}#sk-container-id-1 div.sk-serial {display: flex;flex-direction: column;align-items: center;background-color: white;padding-right: 0.2em;padding-left: 0.2em;position: relative;}#sk-container-id-1 div.sk-item {position: relative;z-index: 1;}#sk-container-id-1 div.sk-parallel {display: flex;align-items: stretch;justify-content: center;background-color: white;position: relative;}#sk-container-id-1 div.sk-item::before, #sk-container-id-1 div.sk-parallel-item::before {content: \"\";position: absolute;border-left: 1px solid gray;box-sizing: border-box;top: 0;bottom: 0;left: 50%;z-index: -1;}#sk-container-id-1 div.sk-parallel-item {display: flex;flex-direction: column;z-index: 1;position: relative;background-color: white;}#sk-container-id-1 div.sk-parallel-item:first-child::after {align-self: flex-end;width: 50%;}#sk-container-id-1 div.sk-parallel-item:last-child::after {align-self: flex-start;width: 50%;}#sk-container-id-1 div.sk-parallel-item:only-child::after {width: 0;}#sk-container-id-1 div.sk-dashed-wrapped {border: 1px dashed gray;margin: 0 0.4em 0.5em 0.4em;box-sizing: border-box;padding-bottom: 0.4em;background-color: white;}#sk-container-id-1 div.sk-label label {font-family: monospace;font-weight: bold;display: inline-block;line-height: 1.2em;}#sk-container-id-1 div.sk-label-container {text-align: center;}#sk-container-id-1 div.sk-container {/* jupyter's `normalize.less` sets `[hidden] { display: none; }` but bootstrap.min.css set `[hidden] { display: none !important; }` so we also need the `!important` here to be able to override the default hidden behavior on the sphinx rendered scikit-learn.org. See: https://github.com/scikit-learn/scikit-learn/issues/21755 */display: inline-block !important;position: relative;}#sk-container-id-1 div.sk-text-repr-fallback {display: none;}</style><div id=\"sk-container-id-1\" class=\"sk-top-container\"><div class=\"sk-text-repr-fallback\"><pre>LogisticRegression()</pre><b>In a Jupyter environment, please rerun this cell to show the HTML representation or trust the notebook. <br />On GitHub, the HTML representation is unable to render, please try loading this page with nbviewer.org.</b></div><div class=\"sk-container\" hidden><div class=\"sk-item\"><div class=\"sk-estimator sk-toggleable\"><input class=\"sk-toggleable__control sk-hidden--visually\" id=\"sk-estimator-id-1\" type=\"checkbox\" checked><label for=\"sk-estimator-id-1\" class=\"sk-toggleable__label sk-toggleable__label-arrow\">LogisticRegression</label><div class=\"sk-toggleable__content\"><pre>LogisticRegression()</pre></div></div></div></div></div>"
            ]
          },
          "metadata": {},
          "execution_count": 38
        }
      ]
    },
    {
      "cell_type": "markdown",
      "source": [
        "Lets evaluate our model"
      ],
      "metadata": {
        "id": "fAykz5oze5rX"
      }
    },
    {
      "cell_type": "code",
      "source": [
        "prediction=model.predict(X_train_features)\n",
        "accuracy=accuracy_score(Y_train,prediction)"
      ],
      "metadata": {
        "id": "fgJ2Gdswe-I9"
      },
      "execution_count": 39,
      "outputs": []
    },
    {
      "cell_type": "code",
      "source": [
        "print('The accuracy on training data is',accuracy)"
      ],
      "metadata": {
        "colab": {
          "base_uri": "https://localhost:8080/"
        },
        "id": "bBZoxyUNfTYJ",
        "outputId": "35f6173a-bbd8-4d0a-85fb-e678a9865287"
      },
      "execution_count": 40,
      "outputs": [
        {
          "output_type": "stream",
          "name": "stdout",
          "text": [
            "The accuracy on training data is 0.9676912721561588\n"
          ]
        }
      ]
    },
    {
      "cell_type": "markdown",
      "source": [
        "We are getting a accuracy score of 96.7% which is a very good accuracy score"
      ],
      "metadata": {
        "id": "uy3Sybnifc9L"
      }
    },
    {
      "cell_type": "markdown",
      "source": [
        "Lets predict using test data"
      ],
      "metadata": {
        "id": "j5Q4X58tfnMw"
      }
    },
    {
      "cell_type": "code",
      "source": [
        "prediction1=model.predict(X_test_features)\n",
        "accuracy1=accuracy_score(Y_test,prediction1)"
      ],
      "metadata": {
        "id": "-bddUa5Ufq0o"
      },
      "execution_count": 41,
      "outputs": []
    },
    {
      "cell_type": "code",
      "source": [
        "print('The accuracy on test data is',accuracy1)"
      ],
      "metadata": {
        "colab": {
          "base_uri": "https://localhost:8080/"
        },
        "id": "C8UTezMZf6UN",
        "outputId": "42875e80-a1e0-4fe1-d336-68469109d10a"
      },
      "execution_count": 42,
      "outputs": [
        {
          "output_type": "stream",
          "name": "stdout",
          "text": [
            "The accuracy on test data is 0.9605381165919282\n"
          ]
        }
      ]
    },
    {
      "cell_type": "markdown",
      "source": [
        "This is not that different the accuracy on the training datas"
      ],
      "metadata": {
        "id": "2_oaEtzEf-N0"
      }
    },
    {
      "cell_type": "markdown",
      "source": [
        "**Lets develop the predictive system now**"
      ],
      "metadata": {
        "id": "s42ch76pgHBZ"
      }
    },
    {
      "cell_type": "code",
      "source": [
        "input=[\"Have a good day!\"]\n",
        "input_feature=feature_extraction.transform(input)\n",
        "prediction2=model.predict(input_feature)\n",
        "if(prediction[0]==1):\n",
        "  print(\"Ham Mail\")\n",
        "else:\n",
        "  print(\"Spam Mail\")\n"
      ],
      "metadata": {
        "colab": {
          "base_uri": "https://localhost:8080/"
        },
        "id": "mhn3siJbgNoj",
        "outputId": "4ab8f7c0-83c1-4f0e-9982-dea49c2d0d8f"
      },
      "execution_count": 47,
      "outputs": [
        {
          "output_type": "stream",
          "name": "stdout",
          "text": [
            "Ham Mail\n"
          ]
        }
      ]
    },
    {
      "cell_type": "markdown",
      "source": [
        "**We see that our model is prediction correctly!**"
      ],
      "metadata": {
        "id": "Rv53oyynhJzA"
      }
    }
  ]
}